{
 "cells": [
  {
   "cell_type": "markdown",
   "metadata": {},
   "source": [
    "${\\Huge \\text{Annotate final dataset}}$ <br /><br />\n",
    "${\\Large \\text{Pierre Guilmin}}$  \n",
    "$\\text{December 2018}$\n",
    "\n",
    "**Goal:** This notebook annotates the final dataset obtained at the end of `filter_and_process_raw_dataset.ipynb` by adding some features. All the operations are summarised in the `utils/r/compute_final_dataset.R` R script and can be applied on the final dataset by using the `annotate_final_dataset()` function.\n",
    "\n",
    "This notebook is divided in 2 parts:\n",
    "* **1. Get OncoKB annotations**\n",
    "* **2. Get CancerGenesList annotations**\n",
    "\n",
    "***"
   ]
  },
  {
   "cell_type": "code",
   "execution_count": 1,
   "metadata": {},
   "outputs": [],
   "source": [
    "source(\"../../utils/r/custom_tools.R\")\n",
    "setup_environment(\"../../utils/r\")"
   ]
  },
  {
   "cell_type": "markdown",
   "metadata": {},
   "source": [
    "We are going to annotate the raw impact dataset with the click_annotvcf VEP annotations."
   ]
  },
  {
   "cell_type": "code",
   "execution_count": 2,
   "metadata": {},
   "outputs": [
    {
     "name": "stdout",
     "output_type": "stream",
     "text": [
      "Size of impact: 225561 x 51"
     ]
    },
    {
     "data": {
      "text/html": [
       "<table>\n",
       "<thead><tr><th scope=col>Hugo_Symbol</th><th scope=col>Chromosome</th><th scope=col>Start_Position</th><th scope=col>End_Position</th><th scope=col>Consequence</th><th scope=col>Variant_Type</th><th scope=col>Reference_Allele</th><th scope=col>Tumor_Seq_Allele2</th><th scope=col>Tumor_Sample_Barcode</th><th scope=col>cDNA_change</th><th scope=col>HGVSp_Short</th><th scope=col>t_depth</th><th scope=col>t_vaf</th><th scope=col>t_alt_count</th><th scope=col>n_depth</th><th scope=col>n_vaf</th><th scope=col>n_alt_count</th><th scope=col>t_ref_plus_count</th><th scope=col>t_ref_neg_count</th><th scope=col>t_alt_plus_count</th><th scope=col>t_alt_neg_count</th><th scope=col>confidence_class</th><th scope=col>sample_coverage</th><th scope=col>variant_caller_cv</th><th scope=col>mut_key</th><th scope=col>VEP_Consequence</th><th scope=col>VEP_SYMBOL</th><th scope=col>VEP_HGVSc</th><th scope=col>VEP_HGVSp</th><th scope=col>VEP_VARIANT_CLASS</th><th scope=col>VEP_IMPACT</th><th scope=col>VEP_CLIN_SIG</th><th scope=col>VEP_COSMIC_CNT</th><th scope=col>VEP_gnomAD_AF</th><th scope=col>sample_mut_key</th><th scope=col>patient_key</th><th scope=col>frequency_in_normals</th><th scope=col>VEP_SIFT_class</th><th scope=col>VEP_SIFT_score</th><th scope=col>VEP_PolyPhen_class</th><th scope=col>VEP_PolyPhen_score</th><th scope=col>VEP_in_dbSNP</th><th scope=col>VEP_gnomAD_total_AF_AFR</th><th scope=col>VEP_gnomAD_total_AF_AMR</th><th scope=col>VEP_gnomAD_total_AF_ASJ</th><th scope=col>VEP_gnomAD_total_AF_EAS</th><th scope=col>VEP_gnomAD_total_AF_FIN</th><th scope=col>VEP_gnomAD_total_AF_NFE</th><th scope=col>VEP_gnomAD_total_AF_OTH</th><th scope=col>VEP_gnomAD_total_AF_max</th><th scope=col>VEP_gnomAD_total_AF</th></tr></thead>\n",
       "<tbody>\n",
       "\t<tr><td><span style=white-space:pre-wrap>TP53  </span>                 </td><td>17                                                             </td><td><span style=white-space:pre-wrap>  7577515</span>              </td><td><span style=white-space:pre-wrap>  7577515</span>              </td><td>nonsynonymous_SNV                                              </td><td>SNP                                                            </td><td>T                                                              </td><td>G                                                              </td><td>P-0000012-T02-IM3                                              </td><td><span style=white-space:pre-wrap>c.766A&gt;C   </span>         </td><td>p.T256P                                                        </td><td>227                                                            </td><td>0.50220                                                        </td><td>114                                                            </td><td> 569                                                           </td><td>0.00000                                                        </td><td>0                                                              </td><td> 59                                                            </td><td> 54                                                            </td><td>58                                                             </td><td>56                                                             </td><td>AUTO_OK                                                        </td><td>344                                                            </td><td>MUTECT_ANNOVAR                                                 </td><td>17_7577515_T_G                                                 </td><td><span style=white-space:pre-wrap>missense_variant       </span></td><td><span style=white-space:pre-wrap>TP53  </span>                 </td><td><span style=white-space:pre-wrap>c.766A&gt;C   </span>         </td><td>p.T256P                                                        </td><td>SNV                                                            </td><td>MODERATE                                                       </td><td>unknown                                                        </td><td>1                                                              </td><td>0.000e+00                                                      </td><td>P-0000012-T02-IM3_17_7577515_T_G                               </td><td>P-0000012                                                      </td><td>0                                                              </td><td>deleterious                                                    </td><td>0.00                                                           </td><td>probably_damaging                                              </td><td>0.999                                                          </td><td>FALSE                                                          </td><td>0                                                              </td><td>0                                                              </td><td>0                                                              </td><td>0                                                              </td><td>0                                                              </td><td>0.000000e+00                                                   </td><td>0                                                              </td><td>0.000000e+00                                                   </td><td>0.000000e+00                                                   </td></tr>\n",
       "\t<tr><td>PIK3R3                                                         </td><td>1                                                              </td><td> 46521514                                                      </td><td> 46521514                                                      </td><td>nonsynonymous_SNV                                              </td><td>SNP                                                            </td><td>G                                                              </td><td>C                                                              </td><td>P-0000012-T03-IM3                                              </td><td><span style=white-space:pre-wrap>c.894C&gt;G   </span>         </td><td>p.I298M                                                        </td><td>733                                                            </td><td>0.17599                                                        </td><td>129                                                            </td><td>1243                                                           </td><td>0.00000                                                        </td><td>0                                                              </td><td>288                                                            </td><td>316                                                            </td><td>61                                                             </td><td>68                                                             </td><td>AUTO_OK                                                        </td><td>428                                                            </td><td>MUTECT_ANNOVAR                                                 </td><td>1_46521514_G_C                                                 </td><td><span style=white-space:pre-wrap>missense_variant       </span></td><td>PIK3R3                                                         </td><td><span style=white-space:pre-wrap>c.894C&gt;G   </span>         </td><td>p.I298M                                                        </td><td>SNV                                                            </td><td>MODERATE                                                       </td><td>unknown                                                        </td><td>0                                                              </td><td>0.000e+00                                                      </td><td>P-0000012-T03-IM3_1_46521514_G_C                               </td><td>P-0000012                                                      </td><td>0                                                              </td><td>deleterious                                                    </td><td>0.00                                                           </td><td><span style=white-space:pre-wrap>benign           </span>      </td><td>0.277                                                          </td><td>FALSE                                                          </td><td>0                                                              </td><td>0                                                              </td><td>0                                                              </td><td>0                                                              </td><td>0                                                              </td><td>0.000000e+00                                                   </td><td>0                                                              </td><td>0.000000e+00                                                   </td><td>0.000000e+00                                                   </td></tr>\n",
       "\t<tr><td><span style=white-space:pre-wrap>ATR   </span>                 </td><td>3                                                              </td><td>142178126                                                      </td><td>142178126                                                      </td><td>nonsynonymous_SNV                                              </td><td>SNP                                                            </td><td>C                                                              </td><td>A                                                              </td><td>P-0000012-T03-IM3                                              </td><td><span style=white-space:pre-wrap>c.7292G&gt;T  </span>         </td><td>p.R2431M                                                       </td><td>482                                                            </td><td>0.17427                                                        </td><td> 84                                                            </td><td> 581                                                           </td><td>0.00172                                                        </td><td>1                                                              </td><td>221                                                            </td><td>177                                                            </td><td>46                                                             </td><td>38                                                             </td><td>AUTO_OK                                                        </td><td>428                                                            </td><td>MUTECT_ANNOVAR                                                 </td><td>3_142178126_C_A                                                </td><td><span style=white-space:pre-wrap>missense_variant       </span></td><td><span style=white-space:pre-wrap>ATR   </span>                 </td><td><span style=white-space:pre-wrap>c.7292G&gt;T  </span>         </td><td>p.R2431M                                                       </td><td>SNV                                                            </td><td>MODERATE                                                       </td><td>unknown                                                        </td><td>0                                                              </td><td>4.063e-06                                                      </td><td>P-0000012-T03-IM3_3_142178126_C_A                              </td><td>P-0000012                                                      </td><td>0                                                              </td><td>deleterious                                                    </td><td>0.00                                                           </td><td>probably_damaging                                              </td><td>0.997                                                          </td><td> TRUE                                                          </td><td>0                                                              </td><td>0                                                              </td><td>0                                                              </td><td>0                                                              </td><td>0                                                              </td><td>8.959771e-06                                                   </td><td>0                                                              </td><td>8.959771e-06                                                   </td><td>4.644035e-06                                                   </td></tr>\n",
       "\t<tr><td>PDGFRA                                                         </td><td>4                                                              </td><td> 55139732                                                      </td><td> 55139732                                                      </td><td>nonsynonymous_SNV                                              </td><td>SNP                                                            </td><td>T                                                              </td><td>A                                                              </td><td>P-0000012-T03-IM3                                              </td><td><span style=white-space:pre-wrap>c.1393T&gt;A  </span>         </td><td>p.L465M                                                        </td><td>570                                                            </td><td>0.20351                                                        </td><td>116                                                            </td><td> 811                                                           </td><td>0.00000                                                        </td><td>0                                                              </td><td>252                                                            </td><td>202                                                            </td><td>66                                                             </td><td>50                                                             </td><td>AUTO_OK                                                        </td><td>428                                                            </td><td>MUTECT_ANNOVAR                                                 </td><td>4_55139732_T_A                                                 </td><td><span style=white-space:pre-wrap>missense_variant       </span></td><td>PDGFRA                                                         </td><td><span style=white-space:pre-wrap>c.1393T&gt;A  </span>         </td><td>p.L465M                                                        </td><td>SNV                                                            </td><td>MODERATE                                                       </td><td>unknown                                                        </td><td>0                                                              </td><td>0.000e+00                                                      </td><td>P-0000012-T03-IM3_4_55139732_T_A                               </td><td>P-0000012                                                      </td><td>0                                                              </td><td>deleterious                                                    </td><td>0.01                                                           </td><td>probably_damaging                                              </td><td>0.965                                                          </td><td>FALSE                                                          </td><td>0                                                              </td><td>0                                                              </td><td>0                                                              </td><td>0                                                              </td><td>0                                                              </td><td>0.000000e+00                                                   </td><td>0                                                              </td><td>0.000000e+00                                                   </td><td>0.000000e+00                                                   </td></tr>\n",
       "\t<tr><td>FBXW7                                                    </td><td>4                                                        </td><td>153249542                                                </td><td>153249542                                                </td><td><span style=white-space:pre-wrap>splicing         </span></td><td>SNP                                                      </td><td>C                                                        </td><td>A                                                        </td><td>P-0000012-T03-IM3                                        </td><td>c.1237-1G&gt;T                                           </td><td><span style=white-space:pre-wrap>        </span>         </td><td>333                                                      </td><td>0.25526                                                  </td><td> 85                                                      </td><td> 458                                                     </td><td>0.00000                                                  </td><td>0                                                        </td><td> 69                                                      </td><td>179                                                      </td><td>24                                                       </td><td>61                                                       </td><td>AUTO_OK                                                  </td><td>428                                                      </td><td>MUTECT_ANNOVAR                                           </td><td>4_153249542_C_A                                          </td><td>splice_acceptor_variant                                  </td><td>FBXW7                                                    </td><td>c.1237-1G&gt;T                                           </td><td>unknown                                                  </td><td>SNV                                                      </td><td><span style=white-space:pre-wrap>HIGH    </span>         </td><td>unknown                                                  </td><td>0                                                        </td><td>0.000e+00                                                </td><td>P-0000012-T03-IM3_4_153249542_C_A                        </td><td>P-0000012                                                </td><td>0                                                        </td><td><span style=white-space:pre-wrap>unknown    </span>      </td><td><span style=white-space:pre-wrap>  NA</span>             </td><td><span style=white-space:pre-wrap>unknown          </span></td><td><span style=white-space:pre-wrap>   NA</span>            </td><td>FALSE                                                    </td><td>0                                                        </td><td>0                                                        </td><td>0                                                        </td><td>0                                                        </td><td>0                                                        </td><td>0.000000e+00                                             </td><td>0                                                        </td><td>0.000000e+00                                             </td><td>0.000000e+00                                             </td></tr>\n",
       "\t<tr><td>FBXW7                                                          </td><td>4                                                              </td><td>153332775                                                      </td><td>153332775                                                      </td><td><span style=white-space:pre-wrap>stopgain_SNV     </span>      </td><td>SNP                                                            </td><td>C                                                              </td><td>A                                                              </td><td>P-0000012-T03-IM3                                              </td><td><span style=white-space:pre-wrap>c.181G&gt;T   </span>         </td><td><span style=white-space:pre-wrap>p.G61*  </span>               </td><td>570                                                            </td><td>0.22807                                                        </td><td>130                                                            </td><td> 908                                                           </td><td>0.00000                                                        </td><td>0                                                              </td><td>243                                                            </td><td>197                                                            </td><td>70                                                             </td><td>60                                                             </td><td>AUTO_OK                                                        </td><td>428                                                            </td><td>MUTECT_ANNOVAR                                                 </td><td>4_153332775_C_A                                                </td><td><span style=white-space:pre-wrap>stop_gained            </span></td><td>FBXW7                                                          </td><td><span style=white-space:pre-wrap>c.181G&gt;T   </span>         </td><td><span style=white-space:pre-wrap>p.G61*  </span>               </td><td>SNV                                                            </td><td><span style=white-space:pre-wrap>HIGH    </span>               </td><td>unknown                                                        </td><td>0                                                              </td><td>0.000e+00                                                      </td><td>P-0000012-T03-IM3_4_153332775_C_A                              </td><td>P-0000012                                                      </td><td>0                                                              </td><td><span style=white-space:pre-wrap>unknown    </span>            </td><td><span style=white-space:pre-wrap>  NA</span>                   </td><td><span style=white-space:pre-wrap>unknown          </span>      </td><td><span style=white-space:pre-wrap>   NA</span>                  </td><td>FALSE                                                          </td><td>0                                                              </td><td>0                                                              </td><td>0                                                              </td><td>0                                                              </td><td>0                                                              </td><td>0.000000e+00                                                   </td><td>0                                                              </td><td>0.000000e+00                                                   </td><td>0.000000e+00                                                   </td></tr>\n",
       "</tbody>\n",
       "</table>\n"
      ],
      "text/latex": [
       "\\begin{tabular}{r|lllllllllllllllllllllllllllllllllllllllllllllllllll}\n",
       " Hugo\\_Symbol & Chromosome & Start\\_Position & End\\_Position & Consequence & Variant\\_Type & Reference\\_Allele & Tumor\\_Seq\\_Allele2 & Tumor\\_Sample\\_Barcode & cDNA\\_change & HGVSp\\_Short & t\\_depth & t\\_vaf & t\\_alt\\_count & n\\_depth & n\\_vaf & n\\_alt\\_count & t\\_ref\\_plus\\_count & t\\_ref\\_neg\\_count & t\\_alt\\_plus\\_count & t\\_alt\\_neg\\_count & confidence\\_class & sample\\_coverage & variant\\_caller\\_cv & mut\\_key & VEP\\_Consequence & VEP\\_SYMBOL & VEP\\_HGVSc & VEP\\_HGVSp & VEP\\_VARIANT\\_CLASS & VEP\\_IMPACT & VEP\\_CLIN\\_SIG & VEP\\_COSMIC\\_CNT & VEP\\_gnomAD\\_AF & sample\\_mut\\_key & patient\\_key & frequency\\_in\\_normals & VEP\\_SIFT\\_class & VEP\\_SIFT\\_score & VEP\\_PolyPhen\\_class & VEP\\_PolyPhen\\_score & VEP\\_in\\_dbSNP & VEP\\_gnomAD\\_total\\_AF\\_AFR & VEP\\_gnomAD\\_total\\_AF\\_AMR & VEP\\_gnomAD\\_total\\_AF\\_ASJ & VEP\\_gnomAD\\_total\\_AF\\_EAS & VEP\\_gnomAD\\_total\\_AF\\_FIN & VEP\\_gnomAD\\_total\\_AF\\_NFE & VEP\\_gnomAD\\_total\\_AF\\_OTH & VEP\\_gnomAD\\_total\\_AF\\_max & VEP\\_gnomAD\\_total\\_AF\\\\\n",
       "\\hline\n",
       "\t TP53                                      & 17                                        &   7577515                                 &   7577515                                 & nonsynonymous\\_SNV                       & SNP                                       & T                                         & G                                         & P-0000012-T02-IM3                         & c.766A>C                                  & p.T256P                                   & 227                                       & 0.50220                                   & 114                                       &  569                                      & 0.00000                                   & 0                                         &  59                                       &  54                                       & 58                                        & 56                                        & AUTO\\_OK                                 & 344                                       & MUTECT\\_ANNOVAR                          & 17\\_7577515\\_T\\_G                      & missense\\_variant                        & TP53                                      & c.766A>C                                  & p.T256P                                   & SNV                                       & MODERATE                                  & unknown                                   & 1                                         & 0.000e+00                                 & P-0000012-T02-IM3\\_17\\_7577515\\_T\\_G  & P-0000012                                 & 0                                         & deleterious                               & 0.00                                      & probably\\_damaging                       & 0.999                                     & FALSE                                     & 0                                         & 0                                         & 0                                         & 0                                         & 0                                         & 0.000000e+00                              & 0                                         & 0.000000e+00                              & 0.000000e+00                             \\\\\n",
       "\t PIK3R3                                    & 1                                         &  46521514                                 &  46521514                                 & nonsynonymous\\_SNV                       & SNP                                       & G                                         & C                                         & P-0000012-T03-IM3                         & c.894C>G                                  & p.I298M                                   & 733                                       & 0.17599                                   & 129                                       & 1243                                      & 0.00000                                   & 0                                         & 288                                       & 316                                       & 61                                        & 68                                        & AUTO\\_OK                                 & 428                                       & MUTECT\\_ANNOVAR                          & 1\\_46521514\\_G\\_C                      & missense\\_variant                        & PIK3R3                                    & c.894C>G                                  & p.I298M                                   & SNV                                       & MODERATE                                  & unknown                                   & 0                                         & 0.000e+00                                 & P-0000012-T03-IM3\\_1\\_46521514\\_G\\_C  & P-0000012                                 & 0                                         & deleterious                               & 0.00                                      & benign                                    & 0.277                                     & FALSE                                     & 0                                         & 0                                         & 0                                         & 0                                         & 0                                         & 0.000000e+00                              & 0                                         & 0.000000e+00                              & 0.000000e+00                             \\\\\n",
       "\t ATR                                       & 3                                         & 142178126                                 & 142178126                                 & nonsynonymous\\_SNV                       & SNP                                       & C                                         & A                                         & P-0000012-T03-IM3                         & c.7292G>T                                 & p.R2431M                                  & 482                                       & 0.17427                                   &  84                                       &  581                                      & 0.00172                                   & 1                                         & 221                                       & 177                                       & 46                                        & 38                                        & AUTO\\_OK                                 & 428                                       & MUTECT\\_ANNOVAR                          & 3\\_142178126\\_C\\_A                     & missense\\_variant                        & ATR                                       & c.7292G>T                                 & p.R2431M                                  & SNV                                       & MODERATE                                  & unknown                                   & 0                                         & 4.063e-06                                 & P-0000012-T03-IM3\\_3\\_142178126\\_C\\_A & P-0000012                                 & 0                                         & deleterious                               & 0.00                                      & probably\\_damaging                       & 0.997                                     &  TRUE                                     & 0                                         & 0                                         & 0                                         & 0                                         & 0                                         & 8.959771e-06                              & 0                                         & 8.959771e-06                              & 4.644035e-06                             \\\\\n",
       "\t PDGFRA                                    & 4                                         &  55139732                                 &  55139732                                 & nonsynonymous\\_SNV                       & SNP                                       & T                                         & A                                         & P-0000012-T03-IM3                         & c.1393T>A                                 & p.L465M                                   & 570                                       & 0.20351                                   & 116                                       &  811                                      & 0.00000                                   & 0                                         & 252                                       & 202                                       & 66                                        & 50                                        & AUTO\\_OK                                 & 428                                       & MUTECT\\_ANNOVAR                          & 4\\_55139732\\_T\\_A                      & missense\\_variant                        & PDGFRA                                    & c.1393T>A                                 & p.L465M                                   & SNV                                       & MODERATE                                  & unknown                                   & 0                                         & 0.000e+00                                 & P-0000012-T03-IM3\\_4\\_55139732\\_T\\_A  & P-0000012                                 & 0                                         & deleterious                               & 0.01                                      & probably\\_damaging                       & 0.965                                     & FALSE                                     & 0                                         & 0                                         & 0                                         & 0                                         & 0                                         & 0.000000e+00                              & 0                                         & 0.000000e+00                              & 0.000000e+00                             \\\\\n",
       "\t FBXW7                                     & 4                                         & 153249542                                 & 153249542                                 & splicing                                  & SNP                                       & C                                         & A                                         & P-0000012-T03-IM3                         & c.1237-1G>T                               &                                           & 333                                       & 0.25526                                   &  85                                       &  458                                      & 0.00000                                   & 0                                         &  69                                       & 179                                       & 24                                        & 61                                        & AUTO\\_OK                                 & 428                                       & MUTECT\\_ANNOVAR                          & 4\\_153249542\\_C\\_A                     & splice\\_acceptor\\_variant               & FBXW7                                     & c.1237-1G>T                               & unknown                                   & SNV                                       & HIGH                                      & unknown                                   & 0                                         & 0.000e+00                                 & P-0000012-T03-IM3\\_4\\_153249542\\_C\\_A & P-0000012                                 & 0                                         & unknown                                   &   NA                                      & unknown                                   &    NA                                     & FALSE                                     & 0                                         & 0                                         & 0                                         & 0                                         & 0                                         & 0.000000e+00                              & 0                                         & 0.000000e+00                              & 0.000000e+00                             \\\\\n",
       "\t FBXW7                                     & 4                                         & 153332775                                 & 153332775                                 & stopgain\\_SNV                            & SNP                                       & C                                         & A                                         & P-0000012-T03-IM3                         & c.181G>T                                  & p.G61*                                    & 570                                       & 0.22807                                   & 130                                       &  908                                      & 0.00000                                   & 0                                         & 243                                       & 197                                       & 70                                        & 60                                        & AUTO\\_OK                                 & 428                                       & MUTECT\\_ANNOVAR                          & 4\\_153332775\\_C\\_A                     & stop\\_gained                             & FBXW7                                     & c.181G>T                                  & p.G61*                                    & SNV                                       & HIGH                                      & unknown                                   & 0                                         & 0.000e+00                                 & P-0000012-T03-IM3\\_4\\_153332775\\_C\\_A & P-0000012                                 & 0                                         & unknown                                   &   NA                                      & unknown                                   &    NA                                     & FALSE                                     & 0                                         & 0                                         & 0                                         & 0                                         & 0                                         & 0.000000e+00                              & 0                                         & 0.000000e+00                              & 0.000000e+00                             \\\\\n",
       "\\end{tabular}\n"
      ],
      "text/markdown": [
       "\n",
       "Hugo_Symbol | Chromosome | Start_Position | End_Position | Consequence | Variant_Type | Reference_Allele | Tumor_Seq_Allele2 | Tumor_Sample_Barcode | cDNA_change | HGVSp_Short | t_depth | t_vaf | t_alt_count | n_depth | n_vaf | n_alt_count | t_ref_plus_count | t_ref_neg_count | t_alt_plus_count | t_alt_neg_count | confidence_class | sample_coverage | variant_caller_cv | mut_key | VEP_Consequence | VEP_SYMBOL | VEP_HGVSc | VEP_HGVSp | VEP_VARIANT_CLASS | VEP_IMPACT | VEP_CLIN_SIG | VEP_COSMIC_CNT | VEP_gnomAD_AF | sample_mut_key | patient_key | frequency_in_normals | VEP_SIFT_class | VEP_SIFT_score | VEP_PolyPhen_class | VEP_PolyPhen_score | VEP_in_dbSNP | VEP_gnomAD_total_AF_AFR | VEP_gnomAD_total_AF_AMR | VEP_gnomAD_total_AF_ASJ | VEP_gnomAD_total_AF_EAS | VEP_gnomAD_total_AF_FIN | VEP_gnomAD_total_AF_NFE | VEP_gnomAD_total_AF_OTH | VEP_gnomAD_total_AF_max | VEP_gnomAD_total_AF | \n",
       "|---|---|---|---|---|---|\n",
       "| TP53                              | 17                                |   7577515                         |   7577515                         | nonsynonymous_SNV                 | SNP                               | T                                 | G                                 | P-0000012-T02-IM3                 | c.766A>C                          | p.T256P                           | 227                               | 0.50220                           | 114                               |  569                              | 0.00000                           | 0                                 |  59                               |  54                               | 58                                | 56                                | AUTO_OK                           | 344                               | MUTECT_ANNOVAR                    | 17_7577515_T_G                    | missense_variant                  | TP53                              | c.766A>C                          | p.T256P                           | SNV                               | MODERATE                          | unknown                           | 1                                 | 0.000e+00                         | P-0000012-T02-IM3_17_7577515_T_G  | P-0000012                         | 0                                 | deleterious                       | 0.00                              | probably_damaging                 | 0.999                             | FALSE                             | 0                                 | 0                                 | 0                                 | 0                                 | 0                                 | 0.000000e+00                      | 0                                 | 0.000000e+00                      | 0.000000e+00                      | \n",
       "| PIK3R3                            | 1                                 |  46521514                         |  46521514                         | nonsynonymous_SNV                 | SNP                               | G                                 | C                                 | P-0000012-T03-IM3                 | c.894C>G                          | p.I298M                           | 733                               | 0.17599                           | 129                               | 1243                              | 0.00000                           | 0                                 | 288                               | 316                               | 61                                | 68                                | AUTO_OK                           | 428                               | MUTECT_ANNOVAR                    | 1_46521514_G_C                    | missense_variant                  | PIK3R3                            | c.894C>G                          | p.I298M                           | SNV                               | MODERATE                          | unknown                           | 0                                 | 0.000e+00                         | P-0000012-T03-IM3_1_46521514_G_C  | P-0000012                         | 0                                 | deleterious                       | 0.00                              | benign                            | 0.277                             | FALSE                             | 0                                 | 0                                 | 0                                 | 0                                 | 0                                 | 0.000000e+00                      | 0                                 | 0.000000e+00                      | 0.000000e+00                      | \n",
       "| ATR                               | 3                                 | 142178126                         | 142178126                         | nonsynonymous_SNV                 | SNP                               | C                                 | A                                 | P-0000012-T03-IM3                 | c.7292G>T                         | p.R2431M                          | 482                               | 0.17427                           |  84                               |  581                              | 0.00172                           | 1                                 | 221                               | 177                               | 46                                | 38                                | AUTO_OK                           | 428                               | MUTECT_ANNOVAR                    | 3_142178126_C_A                   | missense_variant                  | ATR                               | c.7292G>T                         | p.R2431M                          | SNV                               | MODERATE                          | unknown                           | 0                                 | 4.063e-06                         | P-0000012-T03-IM3_3_142178126_C_A | P-0000012                         | 0                                 | deleterious                       | 0.00                              | probably_damaging                 | 0.997                             |  TRUE                             | 0                                 | 0                                 | 0                                 | 0                                 | 0                                 | 8.959771e-06                      | 0                                 | 8.959771e-06                      | 4.644035e-06                      | \n",
       "| PDGFRA                            | 4                                 |  55139732                         |  55139732                         | nonsynonymous_SNV                 | SNP                               | T                                 | A                                 | P-0000012-T03-IM3                 | c.1393T>A                         | p.L465M                           | 570                               | 0.20351                           | 116                               |  811                              | 0.00000                           | 0                                 | 252                               | 202                               | 66                                | 50                                | AUTO_OK                           | 428                               | MUTECT_ANNOVAR                    | 4_55139732_T_A                    | missense_variant                  | PDGFRA                            | c.1393T>A                         | p.L465M                           | SNV                               | MODERATE                          | unknown                           | 0                                 | 0.000e+00                         | P-0000012-T03-IM3_4_55139732_T_A  | P-0000012                         | 0                                 | deleterious                       | 0.01                              | probably_damaging                 | 0.965                             | FALSE                             | 0                                 | 0                                 | 0                                 | 0                                 | 0                                 | 0.000000e+00                      | 0                                 | 0.000000e+00                      | 0.000000e+00                      | \n",
       "| FBXW7                             | 4                                 | 153249542                         | 153249542                         | splicing                          | SNP                               | C                                 | A                                 | P-0000012-T03-IM3                 | c.1237-1G>T                       |                                   | 333                               | 0.25526                           |  85                               |  458                              | 0.00000                           | 0                                 |  69                               | 179                               | 24                                | 61                                | AUTO_OK                           | 428                               | MUTECT_ANNOVAR                    | 4_153249542_C_A                   | splice_acceptor_variant           | FBXW7                             | c.1237-1G>T                       | unknown                           | SNV                               | HIGH                              | unknown                           | 0                                 | 0.000e+00                         | P-0000012-T03-IM3_4_153249542_C_A | P-0000012                         | 0                                 | unknown                           |   NA                              | unknown                           |    NA                             | FALSE                             | 0                                 | 0                                 | 0                                 | 0                                 | 0                                 | 0.000000e+00                      | 0                                 | 0.000000e+00                      | 0.000000e+00                      | \n",
       "| FBXW7                             | 4                                 | 153332775                         | 153332775                         | stopgain_SNV                      | SNP                               | C                                 | A                                 | P-0000012-T03-IM3                 | c.181G>T                          | p.G61*                            | 570                               | 0.22807                           | 130                               |  908                              | 0.00000                           | 0                                 | 243                               | 197                               | 70                                | 60                                | AUTO_OK                           | 428                               | MUTECT_ANNOVAR                    | 4_153332775_C_A                   | stop_gained                       | FBXW7                             | c.181G>T                          | p.G61*                            | SNV                               | HIGH                              | unknown                           | 0                                 | 0.000e+00                         | P-0000012-T03-IM3_4_153332775_C_A | P-0000012                         | 0                                 | unknown                           |   NA                              | unknown                           |    NA                             | FALSE                             | 0                                 | 0                                 | 0                                 | 0                                 | 0                                 | 0.000000e+00                      | 0                                 | 0.000000e+00                      | 0.000000e+00                      | \n",
       "\n",
       "\n"
      ],
      "text/plain": [
       "  Hugo_Symbol Chromosome Start_Position End_Position Consequence      \n",
       "1 TP53        17           7577515        7577515    nonsynonymous_SNV\n",
       "2 PIK3R3      1           46521514       46521514    nonsynonymous_SNV\n",
       "3 ATR         3          142178126      142178126    nonsynonymous_SNV\n",
       "4 PDGFRA      4           55139732       55139732    nonsynonymous_SNV\n",
       "5 FBXW7       4          153249542      153249542    splicing         \n",
       "6 FBXW7       4          153332775      153332775    stopgain_SNV     \n",
       "  Variant_Type Reference_Allele Tumor_Seq_Allele2 Tumor_Sample_Barcode\n",
       "1 SNP          T                G                 P-0000012-T02-IM3   \n",
       "2 SNP          G                C                 P-0000012-T03-IM3   \n",
       "3 SNP          C                A                 P-0000012-T03-IM3   \n",
       "4 SNP          T                A                 P-0000012-T03-IM3   \n",
       "5 SNP          C                A                 P-0000012-T03-IM3   \n",
       "6 SNP          C                A                 P-0000012-T03-IM3   \n",
       "  cDNA_change HGVSp_Short t_depth t_vaf   t_alt_count n_depth n_vaf  \n",
       "1 c.766A>C    p.T256P     227     0.50220 114          569    0.00000\n",
       "2 c.894C>G    p.I298M     733     0.17599 129         1243    0.00000\n",
       "3 c.7292G>T   p.R2431M    482     0.17427  84          581    0.00172\n",
       "4 c.1393T>A   p.L465M     570     0.20351 116          811    0.00000\n",
       "5 c.1237-1G>T             333     0.25526  85          458    0.00000\n",
       "6 c.181G>T    p.G61*      570     0.22807 130          908    0.00000\n",
       "  n_alt_count t_ref_plus_count t_ref_neg_count t_alt_plus_count t_alt_neg_count\n",
       "1 0            59               54             58               56             \n",
       "2 0           288              316             61               68             \n",
       "3 1           221              177             46               38             \n",
       "4 0           252              202             66               50             \n",
       "5 0            69              179             24               61             \n",
       "6 0           243              197             70               60             \n",
       "  confidence_class sample_coverage variant_caller_cv mut_key        \n",
       "1 AUTO_OK          344             MUTECT_ANNOVAR    17_7577515_T_G \n",
       "2 AUTO_OK          428             MUTECT_ANNOVAR    1_46521514_G_C \n",
       "3 AUTO_OK          428             MUTECT_ANNOVAR    3_142178126_C_A\n",
       "4 AUTO_OK          428             MUTECT_ANNOVAR    4_55139732_T_A \n",
       "5 AUTO_OK          428             MUTECT_ANNOVAR    4_153249542_C_A\n",
       "6 AUTO_OK          428             MUTECT_ANNOVAR    4_153332775_C_A\n",
       "  VEP_Consequence         VEP_SYMBOL VEP_HGVSc   VEP_HGVSp VEP_VARIANT_CLASS\n",
       "1 missense_variant        TP53       c.766A>C    p.T256P   SNV              \n",
       "2 missense_variant        PIK3R3     c.894C>G    p.I298M   SNV              \n",
       "3 missense_variant        ATR        c.7292G>T   p.R2431M  SNV              \n",
       "4 missense_variant        PDGFRA     c.1393T>A   p.L465M   SNV              \n",
       "5 splice_acceptor_variant FBXW7      c.1237-1G>T unknown   SNV              \n",
       "6 stop_gained             FBXW7      c.181G>T    p.G61*    SNV              \n",
       "  VEP_IMPACT VEP_CLIN_SIG VEP_COSMIC_CNT VEP_gnomAD_AF\n",
       "1 MODERATE   unknown      1              0.000e+00    \n",
       "2 MODERATE   unknown      0              0.000e+00    \n",
       "3 MODERATE   unknown      0              4.063e-06    \n",
       "4 MODERATE   unknown      0              0.000e+00    \n",
       "5 HIGH       unknown      0              0.000e+00    \n",
       "6 HIGH       unknown      0              0.000e+00    \n",
       "  sample_mut_key                    patient_key frequency_in_normals\n",
       "1 P-0000012-T02-IM3_17_7577515_T_G  P-0000012   0                   \n",
       "2 P-0000012-T03-IM3_1_46521514_G_C  P-0000012   0                   \n",
       "3 P-0000012-T03-IM3_3_142178126_C_A P-0000012   0                   \n",
       "4 P-0000012-T03-IM3_4_55139732_T_A  P-0000012   0                   \n",
       "5 P-0000012-T03-IM3_4_153249542_C_A P-0000012   0                   \n",
       "6 P-0000012-T03-IM3_4_153332775_C_A P-0000012   0                   \n",
       "  VEP_SIFT_class VEP_SIFT_score VEP_PolyPhen_class VEP_PolyPhen_score\n",
       "1 deleterious    0.00           probably_damaging  0.999             \n",
       "2 deleterious    0.00           benign             0.277             \n",
       "3 deleterious    0.00           probably_damaging  0.997             \n",
       "4 deleterious    0.01           probably_damaging  0.965             \n",
       "5 unknown          NA           unknown               NA             \n",
       "6 unknown          NA           unknown               NA             \n",
       "  VEP_in_dbSNP VEP_gnomAD_total_AF_AFR VEP_gnomAD_total_AF_AMR\n",
       "1 FALSE        0                       0                      \n",
       "2 FALSE        0                       0                      \n",
       "3  TRUE        0                       0                      \n",
       "4 FALSE        0                       0                      \n",
       "5 FALSE        0                       0                      \n",
       "6 FALSE        0                       0                      \n",
       "  VEP_gnomAD_total_AF_ASJ VEP_gnomAD_total_AF_EAS VEP_gnomAD_total_AF_FIN\n",
       "1 0                       0                       0                      \n",
       "2 0                       0                       0                      \n",
       "3 0                       0                       0                      \n",
       "4 0                       0                       0                      \n",
       "5 0                       0                       0                      \n",
       "6 0                       0                       0                      \n",
       "  VEP_gnomAD_total_AF_NFE VEP_gnomAD_total_AF_OTH VEP_gnomAD_total_AF_max\n",
       "1 0.000000e+00            0                       0.000000e+00           \n",
       "2 0.000000e+00            0                       0.000000e+00           \n",
       "3 8.959771e-06            0                       8.959771e-06           \n",
       "4 0.000000e+00            0                       0.000000e+00           \n",
       "5 0.000000e+00            0                       0.000000e+00           \n",
       "6 0.000000e+00            0                       0.000000e+00           \n",
       "  VEP_gnomAD_total_AF\n",
       "1 0.000000e+00       \n",
       "2 0.000000e+00       \n",
       "3 4.644035e-06       \n",
       "4 0.000000e+00       \n",
       "5 0.000000e+00       \n",
       "6 0.000000e+00       "
      ]
     },
     "metadata": {},
     "output_type": "display_data"
    }
   ],
   "source": [
    "impact <- read.table(\"../../data/processed/final_IMPACT_mutations_20181105.txt\",\n",
    "                     sep = \"\\t\", stringsAsFactors = FALSE, header = TRUE)\n",
    "print_size(impact)\n",
    "head(impact)"
   ]
  },
  {
   "cell_type": "markdown",
   "metadata": {},
   "source": [
    "# Get OncoKB annotations"
   ]
  },
  {
   "cell_type": "markdown",
   "metadata": {},
   "source": [
    "Get the `is_a_hotspot`,`is_a_3d_hotspot` and `oncogenic` features from `oncokb_annotated_final_IMPACT_mutations_20181105.txt` (impact annotated with oncokb-annotator, see ...):"
   ]
  },
  {
   "cell_type": "markdown",
   "metadata": {},
   "source": [
    "## Get the raw data"
   ]
  },
  {
   "cell_type": "code",
   "execution_count": 3,
   "metadata": {},
   "outputs": [
    {
     "name": "stdout",
     "output_type": "stream",
     "text": [
      "Size of impact_oncokb: 150318 x 19"
     ]
    },
    {
     "data": {
      "text/html": [
       "<table>\n",
       "<thead><tr><th scope=col>mut_key</th><th scope=col>Hugo_Symbol</th><th scope=col>VEP_Consequence</th><th scope=col>VEP_VARIANT_CLASS</th><th scope=col>HGVSp_Short</th><th scope=col>Variant_Classification</th><th scope=col>is.a.hotspot</th><th scope=col>is.a.3d.hotspot</th><th scope=col>mutation_effect</th><th scope=col>oncogenic</th><th scope=col>LEVEL_1</th><th scope=col>LEVEL_2A</th><th scope=col>LEVEL_2B</th><th scope=col>LEVEL_3A</th><th scope=col>LEVEL_3B</th><th scope=col>LEVEL_4</th><th scope=col>LEVEL_R1</th><th scope=col>Highest_level</th><th scope=col>citations</th></tr></thead>\n",
       "<tbody>\n",
       "\t<tr><td>17_7577515_T_G         </td><td>TP53                   </td><td>missense_variant       </td><td>SNV                    </td><td>p.T256P                </td><td>Missense_Mutation      </td><td>                       </td><td>                       </td><td>Likely Loss-of-function</td><td>Likely Oncogenic       </td><td>NA                     </td><td>NA                     </td><td>                       </td><td>NA                     </td><td>                       </td><td>                       </td><td>NA                     </td><td>                       </td><td>8023157;11900253       </td></tr>\n",
       "\t<tr><td>1_46521514_G_C         </td><td>PIK3R3                 </td><td>missense_variant       </td><td>SNV                    </td><td>p.I298M                </td><td>Missense_Mutation      </td><td>                       </td><td>                       </td><td>                       </td><td>                       </td><td>NA                     </td><td>NA                     </td><td>                       </td><td>NA                     </td><td>                       </td><td>                       </td><td>NA                     </td><td>                       </td><td>                       </td></tr>\n",
       "\t<tr><td>3_142178126_C_A        </td><td>ATR                    </td><td>missense_variant       </td><td>SNV                    </td><td>p.R2431M               </td><td>Missense_Mutation      </td><td>                       </td><td>                       </td><td>                       </td><td>                       </td><td>NA                     </td><td>NA                     </td><td>                       </td><td>NA                     </td><td>                       </td><td>                       </td><td>NA                     </td><td>                       </td><td>                       </td></tr>\n",
       "\t<tr><td>4_55139732_T_A         </td><td>PDGFRA                 </td><td>missense_variant       </td><td>SNV                    </td><td>p.L465M                </td><td>Missense_Mutation      </td><td>                       </td><td>                       </td><td>                       </td><td>                       </td><td>NA                     </td><td>NA                     </td><td>                       </td><td>NA                     </td><td>                       </td><td>                       </td><td>NA                     </td><td>                       </td><td>                       </td></tr>\n",
       "\t<tr><td>4_153249542_C_A        </td><td>FBXW7                  </td><td>splice_acceptor_variant</td><td>SNV                    </td><td>unknown                </td><td>Splice_Site            </td><td>                       </td><td>                       </td><td>                       </td><td>Likely Oncogenic       </td><td>NA                     </td><td>NA                     </td><td>                       </td><td>NA                     </td><td>                       </td><td>                       </td><td>NA                     </td><td>                       </td><td>                       </td></tr>\n",
       "\t<tr><td>4_153332775_C_A        </td><td>FBXW7                  </td><td>stop_gained            </td><td>SNV                    </td><td>p.G61*                 </td><td>Nonsense_Mutation      </td><td>                       </td><td>                       </td><td>                       </td><td>Likely Oncogenic       </td><td>NA                     </td><td>NA                     </td><td>                       </td><td>NA                     </td><td>                       </td><td>                       </td><td>NA                     </td><td>                       </td><td>                       </td></tr>\n",
       "</tbody>\n",
       "</table>\n"
      ],
      "text/latex": [
       "\\begin{tabular}{r|lllllllllllllllllll}\n",
       " mut\\_key & Hugo\\_Symbol & VEP\\_Consequence & VEP\\_VARIANT\\_CLASS & HGVSp\\_Short & Variant\\_Classification & is.a.hotspot & is.a.3d.hotspot & mutation\\_effect & oncogenic & LEVEL\\_1 & LEVEL\\_2A & LEVEL\\_2B & LEVEL\\_3A & LEVEL\\_3B & LEVEL\\_4 & LEVEL\\_R1 & Highest\\_level & citations\\\\\n",
       "\\hline\n",
       "\t 17\\_7577515\\_T\\_G      & TP53                      & missense\\_variant        & SNV                       & p.T256P                   & Missense\\_Mutation       &                           &                           & Likely Loss-of-function   & Likely Oncogenic          & NA                        & NA                        &                           & NA                        &                           &                           & NA                        &                           & 8023157;11900253         \\\\\n",
       "\t 1\\_46521514\\_G\\_C      & PIK3R3                    & missense\\_variant        & SNV                       & p.I298M                   & Missense\\_Mutation       &                           &                           &                           &                           & NA                        & NA                        &                           & NA                        &                           &                           & NA                        &                           &                          \\\\\n",
       "\t 3\\_142178126\\_C\\_A     & ATR                       & missense\\_variant        & SNV                       & p.R2431M                  & Missense\\_Mutation       &                           &                           &                           &                           & NA                        & NA                        &                           & NA                        &                           &                           & NA                        &                           &                          \\\\\n",
       "\t 4\\_55139732\\_T\\_A      & PDGFRA                    & missense\\_variant        & SNV                       & p.L465M                   & Missense\\_Mutation       &                           &                           &                           &                           & NA                        & NA                        &                           & NA                        &                           &                           & NA                        &                           &                          \\\\\n",
       "\t 4\\_153249542\\_C\\_A       & FBXW7                       & splice\\_acceptor\\_variant & SNV                         & unknown                     & Splice\\_Site               &                             &                             &                             & Likely Oncogenic            & NA                          & NA                          &                             & NA                          &                             &                             & NA                          &                             &                            \\\\\n",
       "\t 4\\_153332775\\_C\\_A     & FBXW7                     & stop\\_gained             & SNV                       & p.G61*                    & Nonsense\\_Mutation       &                           &                           &                           & Likely Oncogenic          & NA                        & NA                        &                           & NA                        &                           &                           & NA                        &                           &                          \\\\\n",
       "\\end{tabular}\n"
      ],
      "text/markdown": [
       "\n",
       "mut_key | Hugo_Symbol | VEP_Consequence | VEP_VARIANT_CLASS | HGVSp_Short | Variant_Classification | is.a.hotspot | is.a.3d.hotspot | mutation_effect | oncogenic | LEVEL_1 | LEVEL_2A | LEVEL_2B | LEVEL_3A | LEVEL_3B | LEVEL_4 | LEVEL_R1 | Highest_level | citations | \n",
       "|---|---|---|---|---|---|\n",
       "| 17_7577515_T_G          | TP53                    | missense_variant        | SNV                     | p.T256P                 | Missense_Mutation       |                         |                         | Likely Loss-of-function | Likely Oncogenic        | NA                      | NA                      |                         | NA                      |                         |                         | NA                      |                         | 8023157;11900253        | \n",
       "| 1_46521514_G_C          | PIK3R3                  | missense_variant        | SNV                     | p.I298M                 | Missense_Mutation       |                         |                         |                         |                         | NA                      | NA                      |                         | NA                      |                         |                         | NA                      |                         |                         | \n",
       "| 3_142178126_C_A         | ATR                     | missense_variant        | SNV                     | p.R2431M                | Missense_Mutation       |                         |                         |                         |                         | NA                      | NA                      |                         | NA                      |                         |                         | NA                      |                         |                         | \n",
       "| 4_55139732_T_A          | PDGFRA                  | missense_variant        | SNV                     | p.L465M                 | Missense_Mutation       |                         |                         |                         |                         | NA                      | NA                      |                         | NA                      |                         |                         | NA                      |                         |                         | \n",
       "| 4_153249542_C_A         | FBXW7                   | splice_acceptor_variant | SNV                     | unknown                 | Splice_Site             |                         |                         |                         | Likely Oncogenic        | NA                      | NA                      |                         | NA                      |                         |                         | NA                      |                         |                         | \n",
       "| 4_153332775_C_A         | FBXW7                   | stop_gained             | SNV                     | p.G61*                  | Nonsense_Mutation       |                         |                         |                         | Likely Oncogenic        | NA                      | NA                      |                         | NA                      |                         |                         | NA                      |                         |                         | \n",
       "\n",
       "\n"
      ],
      "text/plain": [
       "  mut_key         Hugo_Symbol VEP_Consequence         VEP_VARIANT_CLASS\n",
       "1 17_7577515_T_G  TP53        missense_variant        SNV              \n",
       "2 1_46521514_G_C  PIK3R3      missense_variant        SNV              \n",
       "3 3_142178126_C_A ATR         missense_variant        SNV              \n",
       "4 4_55139732_T_A  PDGFRA      missense_variant        SNV              \n",
       "5 4_153249542_C_A FBXW7       splice_acceptor_variant SNV              \n",
       "6 4_153332775_C_A FBXW7       stop_gained             SNV              \n",
       "  HGVSp_Short Variant_Classification is.a.hotspot is.a.3d.hotspot\n",
       "1 p.T256P     Missense_Mutation                                  \n",
       "2 p.I298M     Missense_Mutation                                  \n",
       "3 p.R2431M    Missense_Mutation                                  \n",
       "4 p.L465M     Missense_Mutation                                  \n",
       "5 unknown     Splice_Site                                        \n",
       "6 p.G61*      Nonsense_Mutation                                  \n",
       "  mutation_effect         oncogenic        LEVEL_1 LEVEL_2A LEVEL_2B LEVEL_3A\n",
       "1 Likely Loss-of-function Likely Oncogenic NA      NA                NA      \n",
       "2                                          NA      NA                NA      \n",
       "3                                          NA      NA                NA      \n",
       "4                                          NA      NA                NA      \n",
       "5                         Likely Oncogenic NA      NA                NA      \n",
       "6                         Likely Oncogenic NA      NA                NA      \n",
       "  LEVEL_3B LEVEL_4 LEVEL_R1 Highest_level citations       \n",
       "1                  NA                     8023157;11900253\n",
       "2                  NA                                     \n",
       "3                  NA                                     \n",
       "4                  NA                                     \n",
       "5                  NA                                     \n",
       "6                  NA                                     "
      ]
     },
     "metadata": {},
     "output_type": "display_data"
    }
   ],
   "source": [
    "impact_oncokb <- read.table(\"../../data/annotate_with_oncokb/oncokb_annotated_final_IMPACT_mutations_20181105.txt\",\n",
    "                            sep = \"\\t\", stringsAsFactors = FALSE, header = TRUE)\n",
    "print_size(impact_oncokb)\n",
    "head(impact_oncokb)"
   ]
  },
  {
   "cell_type": "markdown",
   "metadata": {
    "hidden": true
   },
   "source": [
    "### Create keys to join the two dataframes and extract the features"
   ]
  },
  {
   "cell_type": "markdown",
   "metadata": {
    "hidden": true
   },
   "source": [
    "We are going to identify each mutation with a key in both dataframes, allowing us to link each mutation from `impact` to its corresponding mutation in `impact_oncokb`. The keys will be `mut_key` for both dataset, and are already created."
   ]
  },
  {
   "cell_type": "markdown",
   "metadata": {
    "hidden": true
   },
   "source": [
    "**Verification 1** The features `oncogenic`, `is.a.hotspot`, and `is.a.3d.hotspot` are unique for each `mut_key`:"
   ]
  },
  {
   "cell_type": "code",
   "execution_count": 4,
   "metadata": {},
   "outputs": [
    {
     "data": {
      "text/html": [
       "0"
      ],
      "text/latex": [
       "0"
      ],
      "text/markdown": [
       "0"
      ],
      "text/plain": [
       "[1] 0"
      ]
     },
     "metadata": {},
     "output_type": "display_data"
    }
   ],
   "source": [
    "impact_oncokb <- unique(impact_oncokb[, c(\"mut_key\", \"is.a.hotspot\", \"is.a.3d.hotspot\", \"oncogenic\")])\n",
    "nrow(impact_oncokb %>% group_by(mut_key) %>% filter(n() > 1) %>% arrange(mut_key))"
   ]
  },
  {
   "cell_type": "markdown",
   "metadata": {
    "hidden": true
   },
   "source": [
    "**Verification 2** Every impact `mut_key` has an analoguous `join_key` in `impact_oncokb`:"
   ]
  },
  {
   "cell_type": "code",
   "execution_count": 5,
   "metadata": {
    "hidden": true,
    "scrolled": true
   },
   "outputs": [
    {
     "data": {
      "text/html": [
       "0"
      ],
      "text/latex": [
       "0"
      ],
      "text/markdown": [
       "0"
      ],
      "text/plain": [
       "[1] 0"
      ]
     },
     "metadata": {},
     "output_type": "display_data"
    }
   ],
   "source": [
    "nrow(impact[! impact$mut_key %in% impact_oncokb$mut_key,])"
   ]
  },
  {
   "cell_type": "code",
   "execution_count": 6,
   "metadata": {
    "hidden": true
   },
   "outputs": [],
   "source": [
    "impact <- left_join(impact, impact_oncokb[, c(\"mut_key\", \"is.a.hotspot\", \"is.a.3d.hotspot\", \"oncogenic\")], by = c(\"mut_key\" = \"mut_key\"))"
   ]
  },
  {
   "cell_type": "markdown",
   "metadata": {},
   "source": [
    "## Process raw features"
   ]
  },
  {
   "cell_type": "markdown",
   "metadata": {
    "hidden": true
   },
   "source": [
    "### `is_a_hotspot`"
   ]
  },
  {
   "cell_type": "code",
   "execution_count": 7,
   "metadata": {
    "hidden": true
   },
   "outputs": [
    {
     "data": {
      "text/html": [
       "<table>\n",
       "<thead><tr><th scope=col>values</th><th scope=col>count</th><th scope=col>freq</th></tr></thead>\n",
       "<tbody>\n",
       "\t<tr><td>unknown    </td><td>196898     </td><td>87.3%      </td></tr>\n",
       "\t<tr><td>yes        </td><td> 28663     </td><td>12.7%      </td></tr>\n",
       "\t<tr><td>-- total --</td><td>225561     </td><td>100%       </td></tr>\n",
       "</tbody>\n",
       "</table>\n"
      ],
      "text/latex": [
       "\\begin{tabular}{r|lll}\n",
       " values & count & freq\\\\\n",
       "\\hline\n",
       "\t unknown     & 196898      & 87.3\\%    \\\\\n",
       "\t yes         &  28663      & 12.7\\%    \\\\\n",
       "\t -- total -- & 225561      & 100\\%     \\\\\n",
       "\\end{tabular}\n"
      ],
      "text/markdown": [
       "\n",
       "values | count | freq | \n",
       "|---|---|---|\n",
       "| unknown     | 196898      | 87.3%       | \n",
       "| yes         |  28663      | 12.7%       | \n",
       "| -- total -- | 225561      | 100%        | \n",
       "\n",
       "\n"
      ],
      "text/plain": [
       "  values      count  freq \n",
       "1 unknown     196898 87.3%\n",
       "2 yes          28663 12.7%\n",
       "3 -- total -- 225561 100% "
      ]
     },
     "metadata": {},
     "output_type": "display_data"
    }
   ],
   "source": [
    "colnames(impact)[colnames(impact) == \"is.a.hotspot\"] <- \"is_a_hotspot\"\n",
    "impact$is_a_hotspot[impact$is_a_hotspot == \"Y\"  ] <- \"yes\"\n",
    "impact$is_a_hotspot[impact$is_a_hotspot != \"yes\"] <- \"unknown\"\n",
    "get_table(impact$is_a_hotspot)"
   ]
  },
  {
   "cell_type": "markdown",
   "metadata": {
    "hidden": true
   },
   "source": [
    "### `is_a_3d_hotspot`"
   ]
  },
  {
   "cell_type": "code",
   "execution_count": 8,
   "metadata": {
    "hidden": true
   },
   "outputs": [
    {
     "data": {
      "text/html": [
       "<table>\n",
       "<thead><tr><th scope=col>values</th><th scope=col>count</th><th scope=col>freq</th></tr></thead>\n",
       "<tbody>\n",
       "\t<tr><td>unknown    </td><td>208230     </td><td>92.3%      </td></tr>\n",
       "\t<tr><td>yes        </td><td> 17331     </td><td>7.7%       </td></tr>\n",
       "\t<tr><td>-- total --</td><td>225561     </td><td>100%       </td></tr>\n",
       "</tbody>\n",
       "</table>\n"
      ],
      "text/latex": [
       "\\begin{tabular}{r|lll}\n",
       " values & count & freq\\\\\n",
       "\\hline\n",
       "\t unknown     & 208230      & 92.3\\%    \\\\\n",
       "\t yes         &  17331      & 7.7\\%     \\\\\n",
       "\t -- total -- & 225561      & 100\\%     \\\\\n",
       "\\end{tabular}\n"
      ],
      "text/markdown": [
       "\n",
       "values | count | freq | \n",
       "|---|---|---|\n",
       "| unknown     | 208230      | 92.3%       | \n",
       "| yes         |  17331      | 7.7%        | \n",
       "| -- total -- | 225561      | 100%        | \n",
       "\n",
       "\n"
      ],
      "text/plain": [
       "  values      count  freq \n",
       "1 unknown     208230 92.3%\n",
       "2 yes          17331 7.7% \n",
       "3 -- total -- 225561 100% "
      ]
     },
     "metadata": {},
     "output_type": "display_data"
    }
   ],
   "source": [
    "colnames(impact)[colnames(impact) == \"is.a.3d.hotspot\"] <- \"is_a_3d_hotspot\"\n",
    "impact$is_a_3d_hotspot[impact$is_a_3d_hotspot == \"Y\"  ] <- \"yes\"\n",
    "impact$is_a_3d_hotspot[impact$is_a_3d_hotspot != \"yes\"] <- \"unknown\"\n",
    "get_table(impact$is_a_3d_hotspot)"
   ]
  },
  {
   "cell_type": "markdown",
   "metadata": {
    "hidden": true
   },
   "source": [
    "### `oncogenic`"
   ]
  },
  {
   "cell_type": "code",
   "execution_count": 9,
   "metadata": {},
   "outputs": [
    {
     "data": {
      "text/html": [
       "<table>\n",
       "<thead><tr><th scope=col>values</th><th scope=col>count</th><th scope=col>freq</th></tr></thead>\n",
       "<tbody>\n",
       "\t<tr><td>Unknown            </td><td>144137             </td><td>63.9%              </td></tr>\n",
       "\t<tr><td>Likely Oncogenic   </td><td> 60601             </td><td>26.9%              </td></tr>\n",
       "\t<tr><td>Oncogenic          </td><td> 16588             </td><td>7.4%               </td></tr>\n",
       "\t<tr><td>Predicted Oncogenic</td><td>  3189             </td><td>1.4%               </td></tr>\n",
       "\t<tr><td>Inconclusive       </td><td>   651             </td><td>0.3%               </td></tr>\n",
       "\t<tr><td>Likely Neutral     </td><td>   395             </td><td>0.2%               </td></tr>\n",
       "\t<tr><td>-- total --        </td><td>225561             </td><td>100%               </td></tr>\n",
       "</tbody>\n",
       "</table>\n"
      ],
      "text/latex": [
       "\\begin{tabular}{r|lll}\n",
       " values & count & freq\\\\\n",
       "\\hline\n",
       "\t Unknown             & 144137              & 63.9\\%            \\\\\n",
       "\t Likely Oncogenic    &  60601              & 26.9\\%            \\\\\n",
       "\t Oncogenic           &  16588              & 7.4\\%             \\\\\n",
       "\t Predicted Oncogenic &   3189              & 1.4\\%             \\\\\n",
       "\t Inconclusive        &    651              & 0.3\\%             \\\\\n",
       "\t Likely Neutral      &    395              & 0.2\\%             \\\\\n",
       "\t -- total --         & 225561              & 100\\%             \\\\\n",
       "\\end{tabular}\n"
      ],
      "text/markdown": [
       "\n",
       "values | count | freq | \n",
       "|---|---|---|---|---|---|---|\n",
       "| Unknown             | 144137              | 63.9%               | \n",
       "| Likely Oncogenic    |  60601              | 26.9%               | \n",
       "| Oncogenic           |  16588              | 7.4%                | \n",
       "| Predicted Oncogenic |   3189              | 1.4%                | \n",
       "| Inconclusive        |    651              | 0.3%                | \n",
       "| Likely Neutral      |    395              | 0.2%                | \n",
       "| -- total --         | 225561              | 100%                | \n",
       "\n",
       "\n"
      ],
      "text/plain": [
       "  values              count  freq \n",
       "1 Unknown             144137 63.9%\n",
       "2 Likely Oncogenic     60601 26.9%\n",
       "3 Oncogenic            16588 7.4% \n",
       "4 Predicted Oncogenic   3189 1.4% \n",
       "5 Inconclusive           651 0.3% \n",
       "6 Likely Neutral         395 0.2% \n",
       "7 -- total --         225561 100% "
      ]
     },
     "metadata": {},
     "output_type": "display_data"
    }
   ],
   "source": [
    "impact$oncogenic[impact$oncogenic == \"\"] <- \"Unknown\"\n",
    "get_table(impact$oncogenic)"
   ]
  },
  {
   "cell_type": "markdown",
   "metadata": {
    "heading_collapsed": true,
    "toc-hr-collapsed": true
   },
   "source": [
    "# CancerGenesList"
   ]
  },
  {
   "cell_type": "markdown",
   "metadata": {
    "hidden": true
   },
   "source": [
    "Get the `gene_type` feature from `CancerGenesList.txt` (downloaded from http://oncokb.org/#/cancerGenes, the upper right button \"CANCER GENE LIST\")."
   ]
  },
  {
   "cell_type": "markdown",
   "metadata": {
    "hidden": true
   },
   "source": [
    "## Get the raw data"
   ]
  },
  {
   "cell_type": "code",
   "execution_count": 10,
   "metadata": {
    "hidden": true
   },
   "outputs": [
    {
     "name": "stdout",
     "output_type": "stream",
     "text": [
      "Size of cancer_genes_list: 1019 x 11"
     ]
    },
    {
     "data": {
      "text/html": [
       "<table>\n",
       "<thead><tr><th scope=col>Hugo.Symbol</th><th scope=col>X..of.occurence.within.resources</th><th scope=col>OncoKB.Annotated</th><th scope=col>OncoKB.Oncogene</th><th scope=col>OncoKB.TSG</th><th scope=col>MSK.IMPACT</th><th scope=col>MSK.HEME</th><th scope=col>Foundation.One</th><th scope=col>Foundation.One.Heme</th><th scope=col>Vogelstein</th><th scope=col>Sanger.CGC</th></tr></thead>\n",
       "<tbody>\n",
       "\t<tr><td>ABL1  </td><td>7     </td><td>Yes   </td><td>Yes   </td><td>      </td><td>Yes   </td><td>Yes   </td><td>Yes   </td><td>Yes   </td><td>Yes   </td><td>Yes   </td></tr>\n",
       "\t<tr><td>ABL2  </td><td>3     </td><td>No    </td><td>      </td><td>      </td><td>No    </td><td>No    </td><td>Yes   </td><td>Yes   </td><td>No    </td><td>Yes   </td></tr>\n",
       "\t<tr><td>ACTB  </td><td>1     </td><td>No    </td><td>      </td><td>      </td><td>No    </td><td>No    </td><td>No    </td><td>Yes   </td><td>No    </td><td>No    </td></tr>\n",
       "\t<tr><td>ACTG1 </td><td>1     </td><td>No    </td><td>      </td><td>      </td><td>No    </td><td>Yes   </td><td>No    </td><td>No    </td><td>No    </td><td>No    </td></tr>\n",
       "\t<tr><td>ACVR1 </td><td>3     </td><td>Yes   </td><td>Yes   </td><td>      </td><td>Yes   </td><td>No    </td><td>No    </td><td>No    </td><td>No    </td><td>Yes   </td></tr>\n",
       "\t<tr><td>ACVR1B</td><td>2     </td><td>No    </td><td>      </td><td>      </td><td>No    </td><td>No    </td><td>Yes   </td><td>No    </td><td>Yes   </td><td>No    </td></tr>\n",
       "</tbody>\n",
       "</table>\n"
      ],
      "text/latex": [
       "\\begin{tabular}{r|lllllllllll}\n",
       " Hugo.Symbol & X..of.occurence.within.resources & OncoKB.Annotated & OncoKB.Oncogene & OncoKB.TSG & MSK.IMPACT & MSK.HEME & Foundation.One & Foundation.One.Heme & Vogelstein & Sanger.CGC\\\\\n",
       "\\hline\n",
       "\t ABL1   & 7      & Yes    & Yes    &        & Yes    & Yes    & Yes    & Yes    & Yes    & Yes   \\\\\n",
       "\t ABL2   & 3      & No     &        &        & No     & No     & Yes    & Yes    & No     & Yes   \\\\\n",
       "\t ACTB   & 1      & No     &        &        & No     & No     & No     & Yes    & No     & No    \\\\\n",
       "\t ACTG1  & 1      & No     &        &        & No     & Yes    & No     & No     & No     & No    \\\\\n",
       "\t ACVR1  & 3      & Yes    & Yes    &        & Yes    & No     & No     & No     & No     & Yes   \\\\\n",
       "\t ACVR1B & 2      & No     &        &        & No     & No     & Yes    & No     & Yes    & No    \\\\\n",
       "\\end{tabular}\n"
      ],
      "text/markdown": [
       "\n",
       "Hugo.Symbol | X..of.occurence.within.resources | OncoKB.Annotated | OncoKB.Oncogene | OncoKB.TSG | MSK.IMPACT | MSK.HEME | Foundation.One | Foundation.One.Heme | Vogelstein | Sanger.CGC | \n",
       "|---|---|---|---|---|---|\n",
       "| ABL1   | 7      | Yes    | Yes    |        | Yes    | Yes    | Yes    | Yes    | Yes    | Yes    | \n",
       "| ABL2   | 3      | No     |        |        | No     | No     | Yes    | Yes    | No     | Yes    | \n",
       "| ACTB   | 1      | No     |        |        | No     | No     | No     | Yes    | No     | No     | \n",
       "| ACTG1  | 1      | No     |        |        | No     | Yes    | No     | No     | No     | No     | \n",
       "| ACVR1  | 3      | Yes    | Yes    |        | Yes    | No     | No     | No     | No     | Yes    | \n",
       "| ACVR1B | 2      | No     |        |        | No     | No     | Yes    | No     | Yes    | No     | \n",
       "\n",
       "\n"
      ],
      "text/plain": [
       "  Hugo.Symbol X..of.occurence.within.resources OncoKB.Annotated OncoKB.Oncogene\n",
       "1 ABL1        7                                Yes              Yes            \n",
       "2 ABL2        3                                No                              \n",
       "3 ACTB        1                                No                              \n",
       "4 ACTG1       1                                No                              \n",
       "5 ACVR1       3                                Yes              Yes            \n",
       "6 ACVR1B      2                                No                              \n",
       "  OncoKB.TSG MSK.IMPACT MSK.HEME Foundation.One Foundation.One.Heme Vogelstein\n",
       "1            Yes        Yes      Yes            Yes                 Yes       \n",
       "2            No         No       Yes            Yes                 No        \n",
       "3            No         No       No             Yes                 No        \n",
       "4            No         Yes      No             No                  No        \n",
       "5            Yes        No       No             No                  No        \n",
       "6            No         No       Yes            No                  Yes       \n",
       "  Sanger.CGC\n",
       "1 Yes       \n",
       "2 Yes       \n",
       "3 No        \n",
       "4 No        \n",
       "5 Yes       \n",
       "6 No        "
      ]
     },
     "metadata": {},
     "output_type": "display_data"
    }
   ],
   "source": [
    "cancer_genes_list <- read.table(\"../../data/other_databases/CancerGenesList.txt\",\n",
    "                                sep = \"\\t\", stringsAsFactors = FALSE, header = TRUE, comment.char = '')\n",
    "print_size(cancer_genes_list)\n",
    "head(cancer_genes_list)"
   ]
  },
  {
   "cell_type": "markdown",
   "metadata": {
    "hidden": true
   },
   "source": [
    "### Create keys to join the two dataframes and extract the features"
   ]
  },
  {
   "cell_type": "markdown",
   "metadata": {
    "hidden": true
   },
   "source": [
    "We are going to identify each mutation with a key in both dataframes, allowing us to link each mutation from `impact` to its corresponding mutation in `cancer_genes_list`. The keys will be: \n",
    "* `VEP_SYMBOL` for `impact`\n",
    "* `Hugo.Symbol` for `impact_annotated`"
   ]
  },
  {
   "cell_type": "markdown",
   "metadata": {
    "hidden": true
   },
   "source": [
    "**Verification 1** The feature `OncoKB.Oncogene` and `OncoKB.TSG` are unique for each key:"
   ]
  },
  {
   "cell_type": "code",
   "execution_count": 11,
   "metadata": {},
   "outputs": [
    {
     "data": {
      "text/html": [
       "0"
      ],
      "text/latex": [
       "0"
      ],
      "text/markdown": [
       "0"
      ],
      "text/plain": [
       "[1] 0"
      ]
     },
     "metadata": {},
     "output_type": "display_data"
    }
   ],
   "source": [
    "cancer_genes_list <- unique(cancer_genes_list[, c(\"Hugo.Symbol\", \"OncoKB.Oncogene\", \"OncoKB.TSG\")])\n",
    "nrow(cancer_genes_list %>% group_by(Hugo.Symbol) %>% filter(n() > 1))"
   ]
  },
  {
   "cell_type": "markdown",
   "metadata": {
    "hidden": true
   },
   "source": [
    "**Verification 2** Some impact `VEP_SYMBOL` don't have an analoguous `Hugo.Symbol` in `impact_annotated`, some `NA` values will appear and need to be handled:"
   ]
  },
  {
   "cell_type": "code",
   "execution_count": 12,
   "metadata": {
    "hidden": true,
    "scrolled": true
   },
   "outputs": [
    {
     "data": {
      "text/html": [
       "27"
      ],
      "text/latex": [
       "27"
      ],
      "text/markdown": [
       "27"
      ],
      "text/plain": [
       "[1] 27"
      ]
     },
     "metadata": {},
     "output_type": "display_data"
    },
    {
     "name": "stdout",
     "output_type": "stream",
     "text": [
      " [1] \"INSRR\"          \"RP11-211G3.3\"   \"PCDHB3\"         \"AC008738.1\"    \n",
      " [5] \"OBSL1\"          \"TIMM8B\"         \"CTD-2561B21.3\"  \"RP1-85F18.6\"   \n",
      " [9] \"SDCCAG8\"        \"MFSD11\"         \"SMIM4\"          \"OCLN\"          \n",
      "[13] \"AC129492.6\"     \"IL31RA\"         \"SETD8\"          \"RP11-354M1.2\"  \n",
      "[17] \"RTEL1-TNFRSF6B\" \"KIF20A\"         \"H2AFY\"          \"CHD1\"          \n",
      "[21] \"DHRS13\"         \"BZRAP1-AS1\"     \"PAPD4\"          \"RP11-770J1.3\"  \n",
      "[25] \"AC004906.3\"     \"AP003419.16\"    \"RP11-513D5.2\"  \n"
     ]
    }
   ],
   "source": [
    "length(unique(impact$VEP_SYMBOL[! impact$VEP_SYMBOL %in% cancer_genes_list$Hugo.Symbol]))\n",
    "print(unique(impact$VEP_SYMBOL[! impact$VEP_SYMBOL %in% cancer_genes_list$Hugo.Symbol]))"
   ]
  },
  {
   "cell_type": "code",
   "execution_count": 13,
   "metadata": {
    "hidden": true
   },
   "outputs": [],
   "source": [
    "impact <- left_join(impact, cancer_genes_list[, c(\"Hugo.Symbol\", \"OncoKB.Oncogene\", \"OncoKB.TSG\")], by = c(\"VEP_SYMBOL\" = \"Hugo.Symbol\"))"
   ]
  },
  {
   "cell_type": "markdown",
   "metadata": {
    "hidden": true
   },
   "source": [
    "### `gene_type`"
   ]
  },
  {
   "cell_type": "code",
   "execution_count": 14,
   "metadata": {
    "hidden": true
   },
   "outputs": [
    {
     "data": {
      "text/html": [
       "<ol class=list-inline>\n",
       "\t<li>''</li>\n",
       "\t<li>'Yes'</li>\n",
       "\t<li>NA</li>\n",
       "</ol>\n"
      ],
      "text/latex": [
       "\\begin{enumerate*}\n",
       "\\item ''\n",
       "\\item 'Yes'\n",
       "\\item NA\n",
       "\\end{enumerate*}\n"
      ],
      "text/markdown": [
       "1. ''\n",
       "2. 'Yes'\n",
       "3. NA\n",
       "\n",
       "\n"
      ],
      "text/plain": [
       "[1] \"\"    \"Yes\" NA   "
      ]
     },
     "metadata": {},
     "output_type": "display_data"
    },
    {
     "data": {
      "text/html": [
       "<ol class=list-inline>\n",
       "\t<li>'Yes'</li>\n",
       "\t<li>''</li>\n",
       "\t<li>NA</li>\n",
       "</ol>\n"
      ],
      "text/latex": [
       "\\begin{enumerate*}\n",
       "\\item 'Yes'\n",
       "\\item ''\n",
       "\\item NA\n",
       "\\end{enumerate*}\n"
      ],
      "text/markdown": [
       "1. 'Yes'\n",
       "2. ''\n",
       "3. NA\n",
       "\n",
       "\n"
      ],
      "text/plain": [
       "[1] \"Yes\" \"\"    NA   "
      ]
     },
     "metadata": {},
     "output_type": "display_data"
    }
   ],
   "source": [
    "unique(impact$OncoKB.Oncogene)\n",
    "unique(impact$OncoKB.TSG)"
   ]
  },
  {
   "cell_type": "code",
   "execution_count": 15,
   "metadata": {
    "hidden": true
   },
   "outputs": [],
   "source": [
    "impact$gene_type <- \"unknown\"\n",
    "impact$gene_type[impact$OncoKB.Oncogene == \"Yes\"] <- \"oncogene\"\n",
    "impact$gene_type[impact$OncoKB.TSG == \"Yes\"] <- \"tsg\"\n",
    "impact$gene_type[impact$OncoKB.Oncogene == \"Yes\" & impact$OncoKB.TSG == \"Yes\"] <- \"oncogene_and_tsg\"\n",
    "\n",
    "impact$OncoKB.Oncogene <- NULL\n",
    "impact$OncoKB.TSG      <- NULL"
   ]
  },
  {
   "cell_type": "code",
   "execution_count": 16,
   "metadata": {},
   "outputs": [
    {
     "data": {
      "text/html": [
       "<table>\n",
       "<thead><tr><th scope=col>values</th><th scope=col>count</th><th scope=col>freq</th></tr></thead>\n",
       "<tbody>\n",
       "\t<tr><td>tsg             </td><td>111390          </td><td>49.4%           </td></tr>\n",
       "\t<tr><td>oncogene        </td><td> 55454          </td><td>24.6%           </td></tr>\n",
       "\t<tr><td>unknown         </td><td> 53176          </td><td>23.6%           </td></tr>\n",
       "\t<tr><td>oncogene_and_tsg</td><td>  5541          </td><td>2.5%            </td></tr>\n",
       "\t<tr><td>-- total --     </td><td>225561          </td><td>100%            </td></tr>\n",
       "</tbody>\n",
       "</table>\n"
      ],
      "text/latex": [
       "\\begin{tabular}{r|lll}\n",
       " values & count & freq\\\\\n",
       "\\hline\n",
       "\t tsg              & 111390           & 49.4\\%         \\\\\n",
       "\t oncogene         &  55454           & 24.6\\%         \\\\\n",
       "\t unknown          &  53176           & 23.6\\%         \\\\\n",
       "\t oncogene\\_and\\_tsg &   5541               & 2.5\\%              \\\\\n",
       "\t -- total --      & 225561           & 100\\%          \\\\\n",
       "\\end{tabular}\n"
      ],
      "text/markdown": [
       "\n",
       "values | count | freq | \n",
       "|---|---|---|---|---|\n",
       "| tsg              | 111390           | 49.4%            | \n",
       "| oncogene         |  55454           | 24.6%            | \n",
       "| unknown          |  53176           | 23.6%            | \n",
       "| oncogene_and_tsg |   5541           | 2.5%             | \n",
       "| -- total --      | 225561           | 100%             | \n",
       "\n",
       "\n"
      ],
      "text/plain": [
       "  values           count  freq \n",
       "1 tsg              111390 49.4%\n",
       "2 oncogene          55454 24.6%\n",
       "3 unknown           53176 23.6%\n",
       "4 oncogene_and_tsg   5541 2.5% \n",
       "5 -- total --      225561 100% "
      ]
     },
     "metadata": {},
     "output_type": "display_data"
    }
   ],
   "source": [
    "get_table(impact$gene_type)"
   ]
  },
  {
   "cell_type": "markdown",
   "metadata": {},
   "source": [
    "# Test `get_final_dataset()`"
   ]
  },
  {
   "cell_type": "code",
   "execution_count": 17,
   "metadata": {},
   "outputs": [],
   "source": [
    "annotated_final_impact <- read.table(\"../../data/processed/annotated_final_IMPACT_mutations_20181105.txt\",\n",
    "                                     sep = \"\\t\", stringsAsFactors = FALSE, header = TRUE, comment = \"#\")"
   ]
  },
  {
   "cell_type": "code",
   "execution_count": 18,
   "metadata": {},
   "outputs": [
    {
     "data": {
      "text/html": [
       "225561"
      ],
      "text/latex": [
       "225561"
      ],
      "text/markdown": [
       "225561"
      ],
      "text/plain": [
       "[1] 225561"
      ]
     },
     "metadata": {},
     "output_type": "display_data"
    },
    {
     "data": {
      "text/html": [
       "225561"
      ],
      "text/latex": [
       "225561"
      ],
      "text/markdown": [
       "225561"
      ],
      "text/plain": [
       "[1] 225561"
      ]
     },
     "metadata": {},
     "output_type": "display_data"
    }
   ],
   "source": [
    "nrow(impact)\n",
    "nrow(annotated_final_impact)"
   ]
  },
  {
   "cell_type": "markdown",
   "metadata": {},
   "source": [
    "The two dataframes (the one obtained by the notebook and the one obtained with the script) are equal:"
   ]
  },
  {
   "cell_type": "code",
   "execution_count": 19,
   "metadata": {},
   "outputs": [
    {
     "data": {
      "text/html": [
       "TRUE"
      ],
      "text/latex": [
       "TRUE"
      ],
      "text/markdown": [
       "TRUE"
      ],
      "text/plain": [
       "[1] TRUE"
      ]
     },
     "metadata": {},
     "output_type": "display_data"
    }
   ],
   "source": [
    "all.equal(impact, annotated_final_impact)"
   ]
  }
 ],
 "metadata": {
  "kernelspec": {
   "display_name": "R",
   "language": "R",
   "name": "ir"
  },
  "language_info": {
   "codemirror_mode": "r",
   "file_extension": ".r",
   "mimetype": "text/x-r-source",
   "name": "R",
   "pygments_lexer": "r",
   "version": "3.5.1"
  }
 },
 "nbformat": 4,
 "nbformat_minor": 2
}
